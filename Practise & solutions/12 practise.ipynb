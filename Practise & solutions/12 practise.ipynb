{
 "cells": [
  {
   "cell_type": "markdown",
   "id": "963b17f9",
   "metadata": {},
   "source": [
    "## practise (Repetition)\n",
    "You are an operator at Mission Control.\n",
    "- Using the `requests` library, get the current data from the ISS position API endpoint.\n",
    "- From the returned dictionary, extract the nested `iss_position` dictionary.\n",
    "- Store the latitude and longitude in separate variables.\n",
    "- Print the current latitude and longitude of the ISS."
   ]
  },
  {
   "cell_type": "code",
   "execution_count": null,
   "id": "1d0efb96",
   "metadata": {},
   "outputs": [],
   "source": [
    "import requests\n",
    "\n",
    "API_ENDPOINT_ISS = \"http://api.open-notify.org/iss-now.json\"\n",
    "\n",
    "response_iss = requests.get(url=API_ENDPOINT_ISS) \n",
    "\n",
    "if response_iss.status_code == 200: \n",
    "    data = response_iss.json() \n",
    "    longitude = data[\"iss_position\"][\"longitude\"]\n",
    "    latitude = data[\"iss_position\"][\"latitude\"]\n",
    "    print(f\"Longitude: {longitude}, Latitude: {latitude}\")\n",
    "else:\n",
    "    print(f\"Error retrieving data: {response_iss.status_code}\")"
   ]
  },
  {
   "cell_type": "markdown",
   "id": "dcce660c",
   "metadata": {},
   "source": [
    "## practice (Your Own API Mission)\n",
    "\n",
    "**1. Explore Public APIs:**\n",
    "- Look at lists of freely accessible APIs to find one that interests you. Here are some starting points:\n",
    "    - APIs without keys: `https://apipheny.io/free-api/#apis-without-key`\n",
    "    - A larger list of fun/free APIs: `https://apilist.fun/collection/free-apis`\n",
    "\n",
    "**2. Choose a Target & Retrieve Data:**\n",
    "- Select a simple API from one of the lists.\n",
    "- Using `requests`, write a script to download the data from its endpoint.\n",
    "\n",
    "**3. Design a Small Project:**\n",
    "- Come up with a simple goal for your data. For example:\n",
    "    - **Display it:** Print the raw data, or format it nicely for the console.\n",
    "    - **Modify it:** Extract only specific parts of the data that you find interesting.\n",
    "    - **Use it:** Integrate the data into a small program (e.g., if you fetch data about space launches, have your program list the next 5 upcoming launches).\n",
    "    - **Integrate Previous Skills:** Combine this with file operations (Lesson 5) and functions (Lesson 6).\n",
    "\n",
    "---\n",
    "**Challenge I: Automation**\n",
    "- Using the `time` and/or `datetime` modules, automate your data retrieval.\n",
    "- For example, have your script fetch the data from your chosen API repeatedly (e.g., once every 30 seconds for a total of 5 minutes), printing a new result or a summary each time.\n",
    "\n",
    "---\n",
    "**Challenge II: Data Filtering & Decision Logic**\n",
    "- **Filtering:** Add logic to your script to only display or save data if it meets a certain condition (e.g., for weather data, only log the temperature if it's below freezing; for data on celestial objects, only list objects with a magnitude brighter than a certain value).\n",
    "- **Decision Logic:** Add a condition so your script only runs the data fetch operation under specific circumstances (e.g., using `datetime`, only run the script if it's a weekday between 09:00 and 17:00)."
   ]
  },
  {
   "cell_type": "code",
   "execution_count": null,
   "id": "d2971c4f",
   "metadata": {},
   "outputs": [],
   "source": [
    "# this one is up to you to figure out :)"
   ]
  },
  {
   "cell_type": "markdown",
   "id": "d3a79206",
   "metadata": {},
   "source": [
    "---\n",
    "#### © Jiří Svoboda (George Freedom)\n",
    "- Web: https://GeorgeFreedom.com\n",
    "- LinkedIn: https://www.linkedin.com/in/georgefreedom/\n",
    "- Book me: https://cal.com/georgefreedom"
   ]
  }
 ],
 "metadata": {
  "language_info": {
   "name": "python"
  }
 },
 "nbformat": 4,
 "nbformat_minor": 5
}
