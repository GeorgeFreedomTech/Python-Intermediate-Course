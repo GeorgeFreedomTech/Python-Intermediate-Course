{
 "cells": [
  {
   "cell_type": "markdown",
   "id": "1bd18afe",
   "metadata": {},
   "source": [
    "## practice\n",
    "\n",
    "This practice is a hands-on tutorial to be performed in your computer's **terminal** (like Command Prompt, PowerShell, or Terminal on macOS/Linux) and your **code editor** (e.g., VS Code).\n",
    "\n",
    "1.  **Check Global Packages:** Open your terminal and run `pip list` to see what packages are installed in your main (\"global\") Python environment.\n",
    "\n",
    "2.  **Create a Virtual Environment:** In a folder for your projects (e.g., on your Desktop), run the command to create a new virtual environment. Let's call it `converter_env`.\n",
    "    ```bash\n",
    "    python -m venv converter_env\n",
    "    ```\n",
    "3.  **Activate It:** Activate your new `converter_env`. Your terminal prompt should now show `(converter_env)` at the beginning.\n",
    "\n",
    "4.  **Install a Package:** While the environment is active, install a simple, third-party library called `tempconvert` using pip:\n",
    "    ```bash\n",
    "    pip install tempconvert\n",
    "    ```\n",
    "5.  **Check Local Packages:** Run `pip list` again. You should now see `tempconvert` and its dependencies listed. These packages are installed locally in your `converter_env` only.\n",
    "\n",
    "6.  **Verify the Installation:**\n",
    "    - In your code editor (like VS Code), create a new Python file (e.g., `test_converter.py`).\n",
    "    - **Select the Interpreter:** In VS Code, click the Python version in the bottom-right corner or use `Ctrl+Shift+P` -> `Python: Select Interpreter`. Choose the Python interpreter from your `converter_env` folder (e.g., `.../converter_env/Scripts/python.exe`).\n",
    "    - Add the following code to your file and run it. If it runs without import errors and prints the results, your environment is working correctly.\n",
    "    ```python\n",
    "    from tempconvert import celsius_to_fahrenheit, fahrenheit_to_celsius, celsius_to_kelvin, kelvin_to_celsius\n",
    "\n",
    "    # use these functions to convert temperatures:\n",
    "    print(f\"0°C is {celsius_to_fahrenheit(0)}°F\")\n",
    "    print(f\"32°F is {fahrenheit_to_celsius(32)}°C\")\n",
    "    print(f\"0°C is {celsius_to_kelvin(0)} K\")\n",
    "    print(f\"273.15 K is {kelvin_to_celsius(273.15)}°C\")\n",
    "    ```\n",
    "7.  **(Optional)** Try uninstalling the package from your active environment: `pip uninstall tempconvert`.\n",
    "\n",
    "8.  **Deactivate:** When you are done working, deactivate the environment in your terminal:\n",
    "    ```bash\n",
    "    deactivate\n",
    "    ```"
   ]
  },
  {
   "cell_type": "markdown",
   "id": "65a5b322",
   "metadata": {},
   "source": [
    "---\n",
    "#### © Jiří Svoboda (George Freedom)\n",
    "- Web: https://GeorgeFreedom.com\n",
    "- LinkedIn: https://www.linkedin.com/in/georgefreedom/\n",
    "- Book me: https://cal.com/george-freedom-tech-mentor"
   ]
  }
 ],
 "metadata": {
  "language_info": {
   "name": "python"
  }
 },
 "nbformat": 4,
 "nbformat_minor": 5
}
