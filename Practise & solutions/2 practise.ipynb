{
 "cells": [
  {
   "cell_type": "markdown",
   "id": "187bd87b",
   "metadata": {},
   "source": [
    "## practise\n",
    "\n",
    "**Scenario:** You are a Systems Architect for an interstellar exploration agency. Design three utility functions to handle various data logging and configuration tasks. These functions will be part of a larger mission control system.\n",
    "\n",
    "1.  **Flexible Data Logger (`*args` focus):**\n",
    "    - Create a function `log_telemetry_data(*data_points)`.\n",
    "    - This function will accept a variable number of positional arguments, representing different telemetry readings (e.g., temperature, pressure, radiation levels).\n",
    "    - Inside the function, print how many data points were received.\n",
    "    - Then, iterate through all `data_points` and print each one, perhaps with a label like \"Telemetry point:\".\n",
    "    - If no data points are received, print a message like \"No telemetry data to log.\"\n",
    "\n",
    "---\n",
    "\n",
    "2.  **Probe Configuration (`**kwargs` focus):**\n",
    "    - Create a function `configure_probe_system(**settings)`.\n",
    "    - This function will accept a variable number of keyword arguments, representing various configuration settings for an exploration probe (e.g., `mode=\"deep_scan\"`, `power_output=95`, `target_planet=\"Mars_Candidate_1\"`).\n",
    "    - Inside the function, print \"Probe Configuration Settings:\".\n",
    "    - Then, iterate through the `settings` dictionary (using `.items()` to get key-value pairs) and print each setting name and its value.\n",
    "    - If no settings are provided, print \"Using default probe configuration.\"\n",
    "\n",
    "---\n",
    "\n",
    "3.  **Universal Event Reporter (`*args` and `**kwargs`):**\n",
    "    - Create a function `report_mission_event(event_type_str, *event_codes_tuple, **event_details_dict)`.\n",
    "    - The function must accept:\n",
    "        - A mandatory positional argument `event_type_str` (e.g., \"System Alert\", \"Discovery Logged\").\n",
    "        - A variable number of additional positional arguments (`*event_codes_tuple`), representing numerical or short string codes related to the event.\n",
    "        - A variable number of keyword arguments (`**event_details_dict`), representing specific details about the event (e.g., `location=\"Sector Gamma\"`, `severity=\"High\"`, `artifact_id=\"XG-774\"`).\n",
    "    - The function should print the `event_type_str`.\n",
    "    - If `event_codes_tuple` is not empty, it should print \"Event Codes:\" followed by the tuple.\n",
    "    - If `event_details_dict` is not empty, it should print \"Event Details:\" and then iterate through the dictionary to print each key-value pair."
   ]
  },
  {
   "cell_type": "markdown",
   "id": "3333e124",
   "metadata": {},
   "source": [
    "## Solutions\n",
    "- Only look at the solutions after you have tried solving the exercises `using your own effort` and are truly stuck.\n",
    "- `There are usually multiple ways to solve a task.`\n",
    "- The solutions below use `knowledge that the student has right now` (= from lessons covered so far) and focus on practicing the `topics currently being discussed`."
   ]
  },
  {
   "cell_type": "code",
   "execution_count": null,
   "id": "62b94189",
   "metadata": {},
   "outputs": [],
   "source": [
    "# 1. \n",
    "def log_telemetry_data(*data_points):\n",
    "    # Print how many data points were received.\n",
    "    print(f\"Received {len(data_points)} telemetry data point(s).\")\n",
    "    \n",
    "    # If no data points, print specific message.\n",
    "    if not data_points:\n",
    "        print(\"No telemetry data to log.\")\n",
    "    else:\n",
    "        # Iterate and print each point.\n",
    "        for i, point in enumerate(data_points, 1):\n",
    "            print(f\"  Telemetry point #{i}: {point}\")\n",
    "\n",
    "\n",
    "# --\n",
    "\n",
    "# 2. \n",
    "def configure_probe_system(**settings):\n",
    "    print(\"\\nProbe Configuration Settings:\") # Print header as per exercise\n",
    "    \n",
    "    # If no settings, print default message.\n",
    "    if not settings:\n",
    "        print(\"Using default probe configuration.\")\n",
    "    else:\n",
    "        # Iterate through settings and print each key-value pair.\n",
    "        for key, value in settings.items():\n",
    "            # Simple formatting for display\n",
    "            setting_name = key.replace('_', ' ').capitalize() \n",
    "            print(f\"  {setting_name}: {value}\")\n",
    "\n",
    "\n",
    "# --\n",
    "\n",
    "# 3. \n",
    "def report_mission_event(event_type_str, *event_codes_tuple, **event_details_dict):\n",
    "    print(f\"\\n--- Mission Event Report ---\")\n",
    "    print(f\"Event Type: {event_type_str}\")\n",
    "\n",
    "    if event_codes_tuple:\n",
    "        print(\"Event Codes:\")\n",
    "        for code in event_codes_tuple:\n",
    "            print(f\"  - {code}\")\n",
    "    \n",
    "    if event_details_dict:\n",
    "        print(\"Event Details:\")\n",
    "        for key, value in event_details_dict.items():\n",
    "            detail_name = key.replace('_', ' ').capitalize()\n",
    "            print(f\"  {detail_name}: {value}\")\n"
   ]
  },
  {
   "cell_type": "markdown",
   "id": "99116007",
   "metadata": {},
   "source": [
    "---\n",
    "#### © Jiří Svoboda (George Freedom)\n",
    "- Web: https://GeorgeFreedom.com\n",
    "- LinkedIn: https://www.linkedin.com/in/georgefreedom/\n",
    "- Book me: https://cal.com/georgefreedom"
   ]
  }
 ],
 "metadata": {
  "language_info": {
   "name": "python"
  }
 },
 "nbformat": 4,
 "nbformat_minor": 5
}
