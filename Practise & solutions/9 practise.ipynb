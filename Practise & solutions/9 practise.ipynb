{
 "cells": [
  {
   "cell_type": "markdown",
   "id": "1054d1f1",
   "metadata": {},
   "source": [
    "## practise \n",
    "Your Own Explorer's Portfolio Page - Project Setup:\n",
    "\n",
    "Create a new folder for your HTML project (e.g., my-portfolio-site).\n",
    "In your code editor, create a new HTML file inside that folder. A standard name for the main page is index.html.\n",
    "\n",
    "- Populate the `head` Section:\n",
    "\n",
    "    - Fill in the description, keywords, and author meta tags with your own information.\n",
    "    - Give your page a suitable `title`, e.g., \"John Doe's Exploration Portfolio\".\n",
    "\n",
    "- Build the `body` Content:\n",
    "\n",
    "    - Create one main heading `h1` and two sub-headings `h2`. For example: `Mission Logs`, with sub-headings `Sector Alpha Survey` and `Artifact Analysis`.\n",
    "    - Add at least one paragraph of text under each sub-heading, describing the topic.\n",
    "    - Add a link to an external website relevant to your hobby or interests (e.g., a link to a NASA page or a favorite blog).\n",
    "\n",
    "    - Insert two images:\n",
    "        - One from a local file in your project folder (e.g., a profile picture or a project logo).\n",
    "        - One from an external URL on the internet (e.g., an image of a galaxy from a space agency website).\n",
    "        - Use the height or width attribute on your images to resize them to a maximum of 500 pixels.\n",
    "\n",
    "- Create a Navigation Menu:\n",
    "\n",
    "    - Create at least two more HTML pages, e.g., gallery.html and contact.html in your project folder.\n",
    "    - Add some basic content to the `body` of these new pages.\n",
    "    - On all three of your pages (index.html, gallery.html, contact.html), add an unordered list `ul` to act as a simple navigation menu.\n",
    "    - Inside the list, use list items `li` containing links that point to your other pages. This will allow you to navigate between the pages of your site."
   ]
  },
  {
   "cell_type": "code",
   "execution_count": null,
   "id": "b5d6c2b3",
   "metadata": {
    "vscode": {
     "languageId": "html"
    }
   },
   "outputs": [],
   "source": [
    "<!DOCTYPE html> \n",
    "<html lang=\"en\"> \n",
    "\n",
    "<head> \n",
    "    \n",
    "    <meta name=\"description\" content=\"Exploration portfolio and mission logs of George Freedom.\">\n",
    "    <meta name=\"keywords\" content=\"python, tech education, portfolio, exploration, data analysis\">\n",
    "    <meta name=\"author\" content=\"George Freedom\">\n",
    "\n",
    "    <meta charset=\"UTF-8\">\n",
    "    <meta name=\"viewport\" content=\"width=device-width, initial-scale=1.0\">\n",
    "    \n",
    "    <title>Explorer's Portfolio</title>\n",
    "    \n",
    "</head>\n",
    "\n",
    "<body>\n",
    "\n",
    "    <nav> \n",
    "        <ul> \n",
    "            <li><a href=\"contact.html\">Contact</a></li> \n",
    "            <li><a href=\"gallery.html\">Gallery</a></li> \n",
    "        </ul>\n",
    "    </nav>\n",
    "    \n",
    "    <h1>Mission Logs & Portfolio</h1>\n",
    "\n",
    "    <h2>Sector Gamma-7 Survey</h2>\n",
    "    <p>This section details the reconnaissance mission into Sector Gamma-7, focusing on atmospheric data collection.</p>\n",
    "    <p>All sensor readings were nominal throughout the primary phase.</p>\n",
    "\n",
    "    <h2>Artifact XG-4 Analysis</h2>\n",
    "    <p>Initial analysis of the artifact recovered from Sector Gamma-7.</p>\n",
    "    <p>The object exhibits unknown energy signatures and non-terrestrial composition.</p>\n",
    "\n",
    "    <a href=\"https://nasa.gov\" target=\"_blank\">Link to NASA Image Gallery</a>\n",
    "\n",
    "    <img width=\"500\" src=\"https://science.nasa.gov/wp-content/uploads/2023/11/jwst-ngc346-5.jpg?w=1024\" alt=\"Pillars of Creation by JWST\"> \n",
    "    <img height=\"500\" src=\"images/mission_patch.png\" alt=\"Mission Patch\"> \n",
    "    \n",
    "</body> \n",
    "\n",
    "</html>"
   ]
  },
  {
   "cell_type": "markdown",
   "id": "234e0455",
   "metadata": {},
   "source": [
    "---\n",
    "#### © Jiří Svoboda (George Freedom)\n",
    "- Web: https://GeorgeFreedom.com\n",
    "- LinkedIn: https://www.linkedin.com/in/georgefreedom/\n",
    "- Book me: https://cal.com/george-freedom-tech-mentor"
   ]
  }
 ],
 "metadata": {
  "language_info": {
   "name": "python"
  }
 },
 "nbformat": 4,
 "nbformat_minor": 5
}
