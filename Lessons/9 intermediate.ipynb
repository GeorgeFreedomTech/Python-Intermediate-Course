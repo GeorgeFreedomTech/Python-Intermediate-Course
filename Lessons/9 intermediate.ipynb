{
 "cells": [
  {
   "cell_type": "markdown",
   "id": "d485a04c",
   "metadata": {},
   "source": [
    "# 9. Introduction to Web Structure: HTML & CSS\n",
    "\n",
    "While Python handles logic and data processing, the visual presentation of data on the web is managed by HTML and CSS. Understanding their basics is crucial for anyone working with web applications, data scraping, or even just creating a simple portfolio page to showcase projects.\n",
    "\n",
    "Think of **HTML (`HyperText Markup Language`)** as the architectural **blueprint** that defines the structure and content of a web page. **CSS (`Cascading Style Sheets`)** is the **interior design** – it controls the appearance, layout, color, and fonts.\n",
    "\n",
    "An HTML document marks up content using paired **tags**: `<tag_name>content</tag_name>`.\n",
    "- Tags define what each **element** is (e.g., `<head>`, `<body>`, `<h1>` for a main heading, `<p>` for a paragraph, `<img>` for an image).\n",
    "- Some tags have **attributes** that provide additional information, like `href` for a link's destination or `src` for an image source.\n",
    "\n",
    "**HTML Document Structure:**\n",
    "- The entire document is wrapped in an `<html>` tag, telling the browser it's an HTML document.\n",
    "- The `<head>` section contains meta-information for the browser: the page's title (for the browser tab), description and keywords for search engines, links to CSS stylesheets, etc. This is like the document's manifest or ID card.\n",
    "- The `<body>` section contains all the visible content of the page: headings, text, images, links, etc. This is the main content of your report or log.\n",
    "\n",
    "**Creating an HTML Document:**\n",
    "- In your code editor, create a new file and save it with an `.html` extension (e.g., `my_portfolio.html`).\n",
    "- To quickly generate a basic HTML template in many editors (like VS Code):\n",
    "    - In your empty `.html` file, type an exclamation mark `!` and press `ENTER`.\n",
    "\n",
    "- Below is an example of a simple HTML document."
   ]
  },
  {
   "cell_type": "code",
   "execution_count": null,
   "id": "569c4cf7",
   "metadata": {
    "vscode": {
     "languageId": "html"
    }
   },
   "outputs": [],
   "source": [
    "\n",
    "<!DOCTYPE html>\n",
    "<html lang=\"en\"> <head>\n",
    "    <meta name=\"description\" content=\"A brief description of this page for search engines.\">\n",
    "    <meta name=\"keywords\" content=\"relevant, keywords, separated, by, commas\">\n",
    "    <meta name=\"author\" content=\"Your Name or Company Name\">\n",
    "\n",
    "    <meta charset=\"UTF-8\">\n",
    "    <meta name=\"viewport\" content=\"width=device-width, initial-scale=1.0\">\n",
    "    \n",
    "    <title>Page Title</title>\n",
    "    \n",
    "    <link rel=\"stylesheet\" href=\"style.css\" type=\"text/css\">\n",
    "</head>\n",
    "\n",
    "<body>\n",
    "    <ul> \n",
    "        <li>First item</li>\n",
    "        <li>Second item</li>\n",
    "        <li>Third item</li>\n",
    "    </ul>\n",
    "    \n",
    "    <h1>Main Heading (Level 1)</h1>\n",
    "    <h2>Sub-heading (Level 2)</h2>\n",
    "    <p>This is a paragraph of text.</p>\n",
    "    <p>This is another paragraph of text.</p>\n",
    "\n",
    "    <a href=\"https://www.example.com\" target=\"_blank\">This is a Link</a>\n",
    "\n",
    "    <img height=\"450\" src=\"path/to/my_local_image.jpg\" alt=\"Description of the image\">\n",
    "    \n",
    "</body>\n",
    "\n",
    "</html>"
   ]
  },
  {
   "cell_type": "markdown",
   "id": "b27ad4f0",
   "metadata": {},
   "source": [
    "## 9.2. Structure of HTML document\n",
    "- open a **HTML training.html** file in your IDE (VS Code, PyCharm, etc.)\n",
    "- read the comments and explanations in the HTML file"
   ]
  },
  {
   "cell_type": "markdown",
   "id": "db963da2",
   "metadata": {},
   "source": [
    "## practise \n",
    "Your Own Explorer's Portfolio Page - Project Setup:\n",
    "\n",
    "Create a new folder for your HTML project (e.g., my-portfolio-site).\n",
    "In your code editor, create a new HTML file inside that folder. A standard name for the main page is index.html.\n",
    "\n",
    "- Populate the `head` Section:\n",
    "\n",
    "    - Fill in the description, keywords, and author meta tags with your own information.\n",
    "    - Give your page a suitable `title`, e.g., \"John Doe's Exploration Portfolio\".\n",
    "\n",
    "- Build the `body` Content:\n",
    "\n",
    "    - Create one main heading `h1` and two sub-headings `h2`. For example: `Mission Logs`, with sub-headings `Sector Alpha Survey` and `Artifact Analysis`.\n",
    "    - Add at least one paragraph of text under each sub-heading, describing the topic.\n",
    "    - Add a link to an external website relevant to your hobby or interests (e.g., a link to a NASA page or a favorite blog).\n",
    "\n",
    "    - Insert two images:\n",
    "        - One from a local file in your project folder (e.g., a profile picture or a project logo).\n",
    "        - One from an external URL on the internet (e.g., an image of a galaxy from a space agency website).\n",
    "        - Use the height or width attribute on your images to resize them to a maximum of 500 pixels.\n",
    "\n",
    "- Create a Navigation Menu:\n",
    "\n",
    "    - Create at least two more HTML pages, e.g., gallery.html and contact.html in your project folder.\n",
    "    - Add some basic content to the `body` of these new pages.\n",
    "    - On all three of your pages (index.html, gallery.html, contact.html), add an unordered list `ul` to act as a simple navigation menu.\n",
    "    - Inside the list, use list items `li` containing links that point to your other pages. This will allow you to navigate between the pages of your site.\n"
   ]
  },
  {
   "cell_type": "markdown",
   "id": "f76e3bea",
   "metadata": {},
   "source": [
    "## 9.3. The Explorer's Magnifying Glass: Browser DevTools\n",
    "You can inspect the HTML structure of any web page on the internet using your browser's built-in `Developer Tools` (DevTools).\n",
    "How to Open:\n",
    "- Press the `F12` key.\n",
    "- Or, right-click anywhere on a web page and select `Inspect` from the context menu.\n",
    "- The page's HTML structure will be shown, usually in an \"Elements\" tab. You can expand and collapse elements to see how the page is built.\n",
    "- You can even edit the HTML content or CSS styles directly in DevTools. All changes are temporary and happen only on your local copy in your browser. The live website is not affected. This is great for experimentation and learning."
   ]
  },
  {
   "cell_type": "markdown",
   "id": "af415695",
   "metadata": {},
   "source": [
    "## practise II\n",
    "\n",
    "- Using the DevTools, try to explore various pages on the web\n",
    "- try to change their content or appearance"
   ]
  },
  {
   "cell_type": "code",
   "execution_count": null,
   "id": "97e69f4a",
   "metadata": {},
   "outputs": [],
   "source": [
    "# Explore what the following common HTML tags do. \n",
    "# Look for them on live websites and try modifying them with DevTools.\n",
    "\n",
    "\"\"\"\n",
    "<ol> – ordered list \n",
    "<li> – list item\n",
    "<div> – container (block)\n",
    "<span> – container (inline)\n",
    "<form> – form\n",
    "<input> – input field\n",
    "<button> – button\n",
    "<table> – tab\n",
    "<tr> – tab row\n",
    "<td> – tab data\n",
    "<th> – tab header\n",
    "<textarea> – input field (multiline)\n",
    "\"\"\"\n"
   ]
  },
  {
   "cell_type": "markdown",
   "id": "306d2045",
   "metadata": {},
   "source": [
    "---\n",
    "#### © Jiří Svoboda (George Freedom)\n",
    "- Web: https://GeorgeFreedom.com\n",
    "- LinkedIn: https://www.linkedin.com/in/georgefreedom/\n",
    "- Book me: https://cal.com/georgefreedom"
   ]
  }
 ],
 "metadata": {
  "language_info": {
   "name": "python"
  }
 },
 "nbformat": 4,
 "nbformat_minor": 5
}
