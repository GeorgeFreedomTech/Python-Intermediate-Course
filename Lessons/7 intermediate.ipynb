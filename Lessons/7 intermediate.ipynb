{
 "cells": [
  {
   "cell_type": "markdown",
   "id": "50af134a",
   "metadata": {},
   "source": [
    "# 7. Interacting with the Environment: The `os` and `sys` Modules\n",
    "\n",
    "To make our Python programs truly powerful, we often need them to interact with the world outside the script itself. This involves working with the computer's file system and the Python runtime environment. The `os` and `sys` modules are our primary interfaces for these tasks.\n",
    "\n",
    "- The `os` module: Interacting with the Operating System (files, folders).\n",
    "- The `sys` module: Interacting with the Python Interpreter and runtime environment."
   ]
  },
  {
   "cell_type": "markdown",
   "id": "ddad7cd6",
   "metadata": {},
   "source": [
    "## 7.1. The `os` Module: Interacting with the Operating System\n",
    "This module provides tools to work with OS-level functionality, primarily for managing files and directories (folders). Think of it as your toolkit for navigating the file system map, creating new research folders, or managing data logs.\n",
    "It is a standard part of Python (built-in).\n",
    "- Note: For more advanced and modern object-oriented file system path manipulation, the built-in `pathlib` module is now often recommended.\n"
   ]
  },
  {
   "cell_type": "code",
   "execution_count": null,
   "id": "2525cfa1",
   "metadata": {},
   "outputs": [],
   "source": [
    "import os\n",
    "\n",
    "# Get the Current Working Directory (CWD) - where the script is currently running from\n",
    "print(f\"Current Working Directory: {os.getcwd()}\")\n",
    "\n",
    "# Change the current directory\n",
    "relative_path = \"Mission_Data/Logs\"\n",
    "os.chdir(relative_path)\n",
    "print(f\"New Directory: {os.getcwd()}\") # Verify the change\n",
    "\n",
    "# List the contents (files and folders) of a directory\n",
    "print(f\"Contents of current directory: {os.listdir()}\") # For the current directory\n",
    "print(f\"Contents of C:/ drive (example): {os.listdir('C:/')}\") # For a specific path\n",
    "\n",
    "# Check if a path (file or directory, relative or absolute) exists\n",
    "path_to_check = \"mission_log.txt\"\n",
    "print(os.path.exists(path_to_check)) # Returns True or False\n",
    "\n",
    "# Create a directory\n",
    "os.mkdir(\"new_mission_folder\")\n",
    "\n",
    "# Remove an (empty) directory\n",
    "os.rmdir(\"new_mission_folder\")\n",
    "\n",
    "# Remove a file\n",
    "os.remove(\"report_to_delete.txt\")\n",
    "\n",
    "# Join path components in an OS-independent way (handles `/` vs `\\`)\n",
    "# This only constructs the string; it doesn't create the file/folder.\n",
    "log_file_path = os.path.join(\"mission_data\", \"logs\", \"alpha_log.txt\")\n",
    "# -> \"mission_data/logs/alpha_log.txt\" on Linux/macOS\n",
    "# -> \"mission_data\\logs\\alpha_log.txt\" on Windows\n",
    "print(f\"Constructed Path: {log_file_path}\")\n",
    "\n",
    "# Execute terminal/shell commands from within Python\n",
    "os.system(\"dir\") # Windows command to list directory contents\n",
    "os.system(\"ls -l\") # Linux/macOS equivalent\n",
    "os.system(\"python --version\") # Check Python version\n",
    "os.system(\"python another_script.py\") # Execute another Python script"
   ]
  },
  {
   "cell_type": "markdown",
   "id": "36e41bec",
   "metadata": {},
   "source": [
    "## 7.2. The `sys` Module: Interacting with the Python Interpreter\n",
    "This module provides access to variables and functions related to the Python runtime environment itself. Think of it as interacting with the \"engine\" that runs your code. It's a standard part of Python.\n"
   ]
  },
  {
   "cell_type": "code",
   "execution_count": null,
   "id": "27cb9853",
   "metadata": {},
   "outputs": [],
   "source": [
    "import sys\n",
    "\n",
    "# Exit a script prematurely - a controlled termination at a specific point\n",
    "# By convention, sys.exit(0) means a clean exit, while non-zero numbers indicate an error.\n",
    "# You can also pass a string.\n",
    "choice_str = input(\"Enter 0 to terminate the protocol: \")\n",
    "if choice_str == \"0\":\n",
    "    sys.exit(\"Protocol terminated by user command.\")\n",
    "print(\"Protocol continues...\")\n",
    "\n",
    "# Get the Python version being used\n",
    "print(f\"Python Version: {sys.version}\")\n",
    "\n",
    "# Get the size of an object in memory (in bytes)\n",
    "telemetry_data_list = [num for num in range(1000)] # List comprehension to create sample data\n",
    "print(f\"Size of telemetry_data_list in memory: {sys.getsizeof(telemetry_data_list)} bytes\")\n",
    "\n",
    "\n",
    "\"\"\"\n",
    "Running scripts with command-line arguments:\n",
    "You can run your Python script from the terminal and pass it arguments, like so:\n",
    "\n",
    "python mission_control.py Pathfinder Gamma-9 high_priority\n",
    "\n",
    "Inside the script (in a file \"mission_control.py\"), you can access these arguments using `sys.argv`.\n",
    "\"\"\"\n",
    "# `sys.argv` is a list containing the command-line arguments.\n",
    "# `sys.argv[0]` is always the name of the script itself.\n",
    "print(f\"Script arguments provided at launch: {sys.argv}\")\n",
    "if sys.argv[1] == \"Pathfinder\":\n",
    "    print(\"Pathfinder protocol initiated.\")\n",
    "if sys.argv[2] == \"Gamma-9\":\n",
    "    print(\"Targeting Sector Gamma-9.\")\n",
    "    access_code = sys.argv[3]\n",
    "    print(f\"Access Code provided: {access_code}\")\n",
    "\n",
    "\n",
    "# More complex scripts often use named arguments (like kwargs).\n",
    "# This is usually handled by more advanced modules like `argparse`.\n",
    "\n",
    "\"\"\"\n",
    "Example command:\n",
    "python run_scan.py --target \"Sector B\" --output \"scan_log.csv\" --date \"2025-06-20\"\n",
    "\n",
    "Use cases: test automation, scripting administrative tasks, data processing pipelines.\n",
    "\n",
    "\"\"\"\n"
   ]
  },
  {
   "cell_type": "markdown",
   "id": "6b15ce3f",
   "metadata": {},
   "source": [
    "---\n",
    "#### © Jiří Svoboda (George Freedom)\n",
    "- Web: https://GeorgeFreedom.com\n",
    "- LinkedIn: https://www.linkedin.com/in/georgefreedom/\n",
    "- Book me: https://cal.com/georgefreedom"
   ]
  }
 ],
 "metadata": {
  "language_info": {
   "name": "python"
  }
 },
 "nbformat": 4,
 "nbformat_minor": 5
}
