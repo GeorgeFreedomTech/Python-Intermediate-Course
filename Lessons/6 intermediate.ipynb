{
 "cells": [
  {
   "cell_type": "markdown",
   "id": "ab5ad627",
   "metadata": {},
   "source": [
    "# 6. Mission Timing: Working with Time & Dates\n",
    "\n",
    "Precise handling of time and dates is critical for logging events, planning timelines, measuring performance, and synchronizing operations. Python offers several powerful built-in modules for these tasks, acting as the mission's chronometers and calendar systems.\n",
    "- The `time` module for fundamental time-related operations.\n",
    "- The `calendar` module for calendar-based logic.\n",
    "- The `datetime` module for complex manipulation of dates, times, and time intervals."
   ]
  },
  {
   "cell_type": "markdown",
   "id": "f3273d6c",
   "metadata": {},
   "source": [
    "## 6.1. The `time` Module: Core Timing Operations\n",
    "For simple, low-level time-related tasks like pausing program execution or getting basic timestamps.\n",
    "This module is a standard part of Python (built-in)."
   ]
  },
  {
   "cell_type": "code",
   "execution_count": null,
   "id": "b495a849",
   "metadata": {},
   "outputs": [],
   "source": [
    "import time\n",
    "\n",
    "time.sleep(1) # Pauses the program's execution for 1 second\n",
    "\n",
    "time.time() # Returns the current time as seconds since the \"Epoch\" (January 1, 1970)\n",
    "            # A common format for computer timestamps -> e.g., 1718825881.123456\n",
    "\n",
    "time.localtime() # Returns a special 'struct_time' object (similar to a tuple) with the current local time\n",
    "                 # -> e.g., time.struct_time(tm_year=2025, tm_mon=6, tm_mday=19, ...)\n",
    "                 # Access specific parts: time.localtime().tm_year would return 2025\n",
    "\n",
    "time.asctime() # Returns a human-readable string of the current local time\n",
    "               # -> e.g., 'Thu Jun 19 20:58:01 2025'"
   ]
  },
  {
   "cell_type": "markdown",
   "id": "bb5c2742",
   "metadata": {},
   "source": [
    "## 6.2. The `calendar` Module: Mission Calendars\n",
    "For calendar-related tasks, like displaying a month or checking for leap years.\n",
    "Also a standard part of Python."
   ]
  },
  {
   "cell_type": "code",
   "execution_count": null,
   "id": "4170471b",
   "metadata": {},
   "outputs": [],
   "source": [
    "import calendar\n",
    "\n",
    "# returns a string = calendar for the month of July 2025\n",
    "calendar.month(2025, 7) \n",
    "\n",
    "\"\"\"\n",
    "output:\n",
    "     July 2025\n",
    "Mo Tu We Th Fr Sa Su\n",
    "          1  2  3  4\n",
    " 5  6  7  8  9 10 11\n",
    "12 13 14 15 16 17 18\n",
    "19 20 21 22 23 24 25\n",
    "26 27 28 29 30 31\n",
    "\"\"\"\n",
    "\n",
    "# returns the day of the week as an integer (0=Monday..6=Sunday)\n",
    "day_index = calendar.weekday(2025, 7, 4) # day of the week for July 4th, 2025 -> 4 (which is Friday)\n",
    "\n",
    "# calendar.isleap(year) - returns True or False if the year is a leap year\n",
    "is_leap_2024 = calendar.isleap(2024) # -> True\n",
    "\n",
    "# calendar.monthrange(year, month) - returns a tuple: (weekday of first day, number of days in month)\n",
    "month_info = calendar.monthrange(2025, 2) # For February 2025\n",
    "# -> (5, 28) (meaning the 1st of Feb 2025 is a Saturday (index 5), and it has 28 days)\n",
    "# To get just the number of days: calendar.monthrange(2025, 2)[1]"
   ]
  },
  {
   "cell_type": "markdown",
   "id": "20799dee",
   "metadata": {},
   "source": [
    "## 6.3. The `datetime` Module: Advanced Time & Date Manipulation\n",
    "The most powerful and commonly used module for advanced work with dates, times, and the intervals between them.\n",
    "Standard part of Python."
   ]
  },
  {
   "cell_type": "code",
   "execution_count": null,
   "id": "c6c740a5",
   "metadata": {},
   "outputs": [],
   "source": [
    "import datetime\n",
    "\n",
    "\"\"\"\n",
    "Creating `datetime` Objects\n",
    "\"\"\"\n",
    "# A 'datetime' object represents a specific point in time = time stamp\n",
    "\n",
    "# Create a datetime object for the current moment\n",
    "right_now = datetime.datetime.now() # -> e.g., 2025-06-19 21:00:00.123456\n",
    "\n",
    "# Create a datetime object for a specific date and time\n",
    "# year, month, day are mandatory. hour, minute, etc., are optional.\n",
    "specific_event = datetime.datetime(year=2026, month=1, day=15, hour=12, minute=0)\n",
    "\n",
    "# Access individual attributes of a datetime object\n",
    "year_of_event = specific_event.year # -> 2026\n",
    "month_of_event = specific_event.month # -> 1\n",
    "# And so on for .day, .hour, .minute, .second, .microsecond\n",
    "\n",
    "\"\"\"\n",
    "Operations with `datetime` Objects\n",
    "\"\"\"\n",
    "# Create a datetime object for the current moment\n",
    "now = datetime.datetime.now()\n",
    "\n",
    "# strftime: Format a datetime object FROM a datetime object INTO a string (for display or logging)\n",
    "# You provide a \"format code\" string to specify the output format.\n",
    "formatted_date = datetime.datetime.strftime(now, \"%Y-%m-%d %H:%M:%S\") # e.g., \"2025-06-19 21:00:00\"\n",
    "# Common format codes: %Y=Year, %m=month, %d=day, %H=hour, %M=minute, %S=second, %f=microsecond, etc. for more use the documentation.\n",
    "\n",
    "# strptime: PARSE a string INTO a datetime object (e.g., from a user input or log file)\n",
    "date_from_string = datetime.datetime.strptime(\"2026-01-15\", \"%Y-%m-%d\")\n",
    "# You tell Python the format of the input string so it can parse it correctly.\n",
    "\n",
    "\"\"\"\n",
    "Operations with Time Intervals (`timedelta`)\n",
    "\"\"\"\n",
    "# A 'timedelta' object represents a duration, a difference between two dates or times.\n",
    "ten_day_duration = datetime.timedelta(days=10) # Create a timedelta object\n",
    "# You can also add weeks, hours, minutes, seconds, etc.\n",
    "\n",
    "# You can perform arithmetic with datetime and timedelta objects.\n",
    "# This is ideal for calculating future or past dates for mission planning.\n",
    "current_time = datetime.datetime.now()\n",
    "\n",
    "# Add 10 days to the current time\n",
    "rendezvous_date = current_time + datetime.timedelta(days=10)\n",
    "print(f\"Rendezvous in 10 days will be: {rendezvous_date}\")\n",
    "\n",
    "# Subtract 5 hours from the current time\n",
    "last_report_time = current_time - datetime.timedelta(hours=5)\n",
    "print(f\"Last report was received at: {last_report_time}\")"
   ]
  },
  {
   "cell_type": "markdown",
   "id": "3cdfeb29",
   "metadata": {},
   "source": [
    "## practice\n",
    "\n",
    "**1. The `time` Module:**\n",
    "- **a) Synchronization Check:** Write a script that:\n",
    "    - Prints the current time in a human-readable format.\n",
    "    - Pauses execution for 2 seconds.\n",
    "    - After the pause, prints the current time again in the same format.\n",
    "    - Make the program perform this \"print-pause-print\" sequence 5 times.\n",
    "\n",
    "- **b) Performance Measurement:** Write a script that measures how long a demanding operation takes to complete.\n",
    "    - In the beginning it announces \"Operation starting...\"\n",
    "    - Perform a computationally heavy task (e.g., a loop that calculates the sum of numbers from 1 to 1,000,000).\n",
    "    - After the operation is complete, announce \"Operation finished.\"\n",
    "    - Calculate and print the total duration.\n",
    "\n",
    "---\n",
    "\n",
    "**2. The `calendar` Module:**\n",
    "- **a) Weekend Day Counter:** Write a script that:\n",
    "    - Asks the user to input a year and a month number.\n",
    "    - Calculates and returns the number of weekend days (Saturdays and Sundays) in that specific month and year.\n",
    "    - *Example Output:* `In February 2024, there are 8 weekend days.`\n",
    "\n",
    "---\n",
    "\n",
    "**3. The `datetime` Module:**\n",
    "- Write scripts to perform the following timeline calculations:\n",
    "    - **a)** Get and display the current date and time.\n",
    "    - **b)** Create a `datetime` object for a mission start date: January 1, 1935.\n",
    "    - **c)** Determine which day of the week a specific future event falls on (e.g., May 14, 2041 or use input) and then convert and print this date as a string in the format \"YYYY-MM-DD\".\n",
    "    - **d)** Calculate the time interval (e.g., the number of days) between the current date and a final mission rendezvous date of September 18, 2055."
   ]
  },
  {
   "cell_type": "markdown",
   "id": "232ad426",
   "metadata": {},
   "source": [
    "---\n",
    "#### © Jiří Svoboda (George Freedom)\n",
    "- Web: https://GeorgeFreedom.com\n",
    "- LinkedIn: https://www.linkedin.com/in/georgefreedom/\n",
    "- Book me: https://cal.com/georgefreedom"
   ]
  }
 ],
 "metadata": {
  "language_info": {
   "name": "python"
  }
 },
 "nbformat": 4,
 "nbformat_minor": 5
}
