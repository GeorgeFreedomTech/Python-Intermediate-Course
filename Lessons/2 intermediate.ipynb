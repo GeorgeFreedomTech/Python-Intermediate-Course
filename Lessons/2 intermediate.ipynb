{
 "cells": [
  {
   "cell_type": "markdown",
   "id": "ebe60d1b",
   "metadata": {},
   "source": [
    "# 2. Flexible Function Inputs: `*args` and `**kwargs`\n",
    "\n",
    "Python functions can be made highly flexible by accepting a variable number of arguments. This is achieved using `*args` for positional arguments and `**kwargs` for keyword arguments. These are like versatile input ports for your custom-built exploration tools.\n",
    "\n",
    "- `*args`: Capturing variable positional arguments.\n",
    "- `**kwargs`: Capturing variable keyword (named) arguments."
   ]
  },
  {
   "cell_type": "markdown",
   "id": "c9f709e4",
   "metadata": {},
   "source": [
    "## 2.1. `*args`: Handling a Variable Number of Positional Arguments\n",
    "- Conventionally denoted by `*args` in a function definition.\n",
    "- Allows a function to accept any number of positional arguments. These arguments are passed as values without explicit names.\n",
    "- Inside the function, `args` becomes a **tuple** containing all the extra positional arguments.\n",
    "- You access them by their index (e.g., `args[0]`)."
   ]
  },
  {
   "cell_type": "code",
   "execution_count": null,
   "id": "bf8f0a19",
   "metadata": {},
   "outputs": [],
   "source": [
    "# Example with a built-in function like `max()` that accepts variable positional arguments:\n",
    "max_val1 = max(5, 10) # -> 10\n",
    "max_val2 = max(3, 6, 9, 12, 7) # -> 12\n",
    "\n",
    "\n",
    "# Example with a custom function `log_entity_data()`:\n",
    "def log_entity_data(*args): # `*attributes` will collect all positional arguments into a tuple\n",
    "    print(f\"Received positional data (attributes): {args}\")\n",
    "    if len(args) > 1:\n",
    "        print(f\"The second attribute logged is: {args[1]}\")\n",
    "\n",
    "log_entity_data(\"Probe Pathfinder\", 75.5, \"Sector Gamma\", \"2025-06-01T12:00:00Z\")\n",
    "\n",
    "\n",
    "# Example with a function `aggregate_sensor_values()`:\n",
    "def aggregate_sensor_values(*readings):\n",
    "    total = sum(readings) # `sum()` works directly on the 'readings' tuple of numbers\n",
    "    if total == 13: # Just an arbitrary condition from the original example\n",
    "        return \"Anomaly Detected (Sum is 13)\"\n",
    "    else:\n",
    "        return total\n",
    "    \n",
    "print(aggregate_sensor_values(1, 2, 3, 4, 5)) # -> 15\n",
    "print(aggregate_sensor_values(1, 2, 10)) # -> Anomaly Detected (Sum is 13)"
   ]
  },
  {
   "cell_type": "markdown",
   "id": "ff72974e",
   "metadata": {},
   "source": [
    "## 2.2. `**kwargs`: Handling Variable Keyword Arguments\n",
    "- Conventionally denoted by `**kwargs` in a function definition.\n",
    "- Allows a function to accept any number of **keyword (named)** arguments.\n",
    "- Inside the function, `kwargs` becomes a **dictionary** where keys are the argument names (strings) and values are the argument values.\n",
    "- You access them using their keyword (key)."
   ]
  },
  {
   "cell_type": "code",
   "execution_count": null,
   "id": "04c4d3cb",
   "metadata": {},
   "outputs": [],
   "source": [
    "# Keyword arguments are common in built-in functions, like `print()`:\n",
    "print(\"Standard log entry.\") # Default end is newline `\\n`\n",
    "\n",
    "# `end` and `sep` are keyword arguments for print()\n",
    "print(\"Next log entry\", end=\" | Mission Continues... \") # Changes the end string\n",
    "print(\"Data_Point_1\", \"Data_Point_2\", \"Data_Point_3\", end=\" END_TRANSMISSION\\n\", sep=\"---\")\n",
    "# Output: Data_Point_1---Data_Point_2---Data_Point_3 END_TRANSMISSION\n",
    "\n",
    "# `\\r` (carriage return) moves the cursor to the beginning of the line\n",
    "# print(\"Overwrite This\\rFresh Start\") # Output: Fresh Startis (with \"Overwrite Th\" overwritten)\n",
    "\n",
    "\n",
    "# Example with a custom function `log_celestial_object()`:\n",
    "def log_celestial_object(**details): # `**details` collects keyword arguments into a dictionary\n",
    "    print(f\"Received keyword data (details): {details}\")\n",
    "    if \"name\" in details: # Check if 'name' key exists\n",
    "        print(f\"Object Name (from details dict): {details['name']}\")\n",
    "\n",
    "log_celestial_object(name=\"Mars\", type=\"Terrestrial Planet\", orbital_order=4, atmosphere_present=True)"
   ]
  },
  {
   "cell_type": "code",
   "execution_count": null,
   "id": "71651ec2",
   "metadata": {},
   "outputs": [],
   "source": [
    "# Combining `*args` and `**kwargs`\n",
    "\n",
    "# A function can accept both. Standard order: `*args`, then `**kwargs`.\n",
    "def deploy_probe(*mission_params, **probe_config):\n",
    "    print(f\"Mission positional parameters (args tuple): {mission_params}\")\n",
    "    print(f\"Probe configuration (kwargs dict): {probe_config}\")\n",
    "    \n",
    "    if mission_params: # Check if args tuple is not empty\n",
    "        print(f\"First mission parameter: {mission_params[0]}\")\n",
    "    if \"probe_type\" in probe_config: # Check if 'probe_type' key exists in kwargs\n",
    "        print(f\"Probe Type from config: {probe_config['probe_type']}\")\n",
    "\n",
    "# Using 'class_' or 'type_' is a common way to avoid conflict with Python keywords\n",
    "deploy_probe(1, \"Deep Scan\", 120.5, id_tag=\"Pathfinder-1\", target_sector=\"Anomaly Zeta\", probe_type_=\"ReconScout\")\n",
    "\n",
    "\n",
    "# Function definition => \n",
    "# first parameters (main_id, data_category) are mandatory arguments\n",
    "# then any number of other positional arguments and then any number of keywords\n",
    "def process_any_data(main_id, data_category, *additional_data, **properties):\n",
    "    print(f\"Processing ID: {main_id}, Category: {data_category}\")\n",
    "    if additional_data:\n",
    "        print(f\"Additional positional data: {additional_data}\")\n",
    "    if properties:\n",
    "        print(f\"Specific properties: {properties}\")\n",
    "\n",
    "process_any_data(\"Log001\", \"Sensor\", 1,2,3, source=\"ProbeA\", reliability=0.95)"
   ]
  },
  {
   "cell_type": "markdown",
   "id": "25879a6d",
   "metadata": {},
   "source": [
    "## practise\n",
    "\n",
    "**Scenario:** You are a Systems Architect for an interstellar exploration agency. Design three utility functions to handle various data logging and configuration tasks. These functions will be part of a larger mission control system.\n",
    "\n",
    "1.  **Flexible Data Logger (`*args` focus):**\n",
    "    - Create a function `log_telemetry_data(*data_points)`.\n",
    "    - This function will accept a variable number of positional arguments, representing different telemetry readings (e.g., temperature, pressure, radiation levels).\n",
    "    - Inside the function, print how many data points were received.\n",
    "    - Then, iterate through all `data_points` and print each one, perhaps with a label like \"Telemetry point:\".\n",
    "    - If no data points are received, print a message like \"No telemetry data to log.\"\n",
    "\n",
    "---\n",
    "\n",
    "2.  **Probe Configuration (`**kwargs` focus):**\n",
    "    - Create a function `configure_probe_system(**settings)`.\n",
    "    - This function will accept a variable number of keyword arguments, representing various configuration settings for an exploration probe (e.g., `mode=\"deep_scan\"`, `power_output=95`, `target_planet=\"Mars_Candidate_1\"`).\n",
    "    - Inside the function, print \"Probe Configuration Settings:\".\n",
    "    - Then, iterate through the `settings` dictionary (using `.items()` to get key-value pairs) and print each setting name and its value.\n",
    "    - If no settings are provided, print \"Using default probe configuration.\"\n",
    "\n",
    "---\n",
    "\n",
    "3.  **Universal Event Reporter (`*args` and `**kwargs`):**\n",
    "    - Create a function `report_mission_event(event_type_str, *event_codes_tuple, **event_details_dict)`.\n",
    "    - The function must accept:\n",
    "        - A mandatory positional argument `event_type_str` (e.g., \"System Alert\", \"Discovery Logged\").\n",
    "        - A variable number of additional positional arguments (`*event_codes_tuple`), representing numerical or short string codes related to the event.\n",
    "        - A variable number of keyword arguments (`**event_details_dict`), representing specific details about the event (e.g., `location=\"Sector Gamma\"`, `severity=\"High\"`, `artifact_id=\"XG-774\"`).\n",
    "    - The function should print the `event_type_str`.\n",
    "    - If `event_codes_tuple` is not empty, it should print \"Event Codes:\" followed by the tuple.\n",
    "    - If `event_details_dict` is not empty, it should print \"Event Details:\" and then iterate through the dictionary to print each key-value pair."
   ]
  },
  {
   "cell_type": "markdown",
   "id": "88ce87b5",
   "metadata": {},
   "source": [
    "---\n",
    "#### © Jiří Svoboda (George Freedom)\n",
    "- Web: https://GeorgeFreedom.com\n",
    "- LinkedIn: https://www.linkedin.com/in/georgefreedom/\n",
    "- Book me: https://cal.com/georgefreedom"
   ]
  }
 ],
 "metadata": {
  "language_info": {
   "name": "python"
  }
 },
 "nbformat": 4,
 "nbformat_minor": 5
}
