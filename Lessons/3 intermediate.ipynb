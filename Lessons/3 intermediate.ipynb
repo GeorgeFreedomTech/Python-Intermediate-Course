{
 "cells": [
  {
   "cell_type": "markdown",
   "id": "d6607c21",
   "metadata": {},
   "source": [
    "# 3. Comprehensions: Concise Data & Collection Crafting\n",
    "\n",
    "Comprehensions are a hallmark of Python, providing a concise and readable way to create collections like lists, sets, and dictionaries in a single line of code. They are often more efficient and \"Pythonic\" than using a standard `for` loop for the same task. Think of them as a blueprint for rapidly assembling a new dataset from an existing one.\n",
    "\n",
    "- An alternative, one-line syntax for creating collections.\n",
    "- The same result can always be achieved with a standard `for` loop.\n",
    "- Best suited for creating collections based on straightforward logic; for complex, multi-step logic, a `for` loop is often more readable.\n",
    "- Using comprehensions with `any()` and `all()` for powerful data checks.\n",
    "\n",
    "## 3.1. List Comprehension: Building Lists On-the-Fly\n",
    "- Syntax: [expression for item in iterable if condition]\n",
    "- Note the square brackets [ ] for lists!"
   ]
  },
  {
   "cell_type": "code",
   "execution_count": null,
   "id": "764a4116",
   "metadata": {},
   "outputs": [],
   "source": [
    "# Create a list of the first 10 signal readings, each amplified by a factor of 2\n",
    "amplified_signals = [signal * 2 for signal in range(1, 11)] \n",
    "# -> [2, 4, 6, 8, 10, 12, 14, 16, 18, 20]\n",
    "\n",
    "# For comparison, the standard 'for' loop method:\n",
    "amplified_signals_loop = []\n",
    "for signal in range(1, 11):\n",
    "    amplified_signals_loop.append(signal * 2)\n",
    "\n",
    "# Another example with a conditional statement\n",
    "signal_strengths = [34, 55, 61, 22, 98, 45, 15]\n",
    "high_priority_signals = [signal for signal in signal_strengths if signal > 50]\n",
    "# -> [55, 61, 98]\n",
    "\n",
    "# RECOMMENDATION: If a comprehension becomes longer than one line or hard to read =  use a standard `for` loop for clarity."
   ]
  },
  {
   "cell_type": "markdown",
   "id": "08fa8e84",
   "metadata": {},
   "source": [
    "## 3.2. Dictionary Comprehension: Crafting Key-Value Records\n",
    "- Syntax: {key_expression: value_expression for item in iterable}\n",
    "- Note the curly braces { } and the key: value pair!"
   ]
  },
  {
   "cell_type": "code",
   "execution_count": null,
   "id": "57250ec9",
   "metadata": {},
   "outputs": [],
   "source": [
    "# Create a dictionary mapping artifact IDs to their calculated hash values (as an example)\n",
    "artifact_ids = [101, 102, 103] # An iterable collection\n",
    "artifact_hashes = {f\"ID-{item_id}\": item_id ** 2 for item_id in artifact_ids}\n",
    "# -> {'ID-101': 10201, 'ID-102': 10404, 'ID-103': 10609}\n",
    "\n",
    "# Dictionaries are collections of key-value pairs."
   ]
  },
  {
   "cell_type": "markdown",
   "id": "b61837af",
   "metadata": {},
   "source": [
    "## 3.3. Set Comprehension: Assembling Unique Datasets\n",
    "- Syntax: {expression for item in iterable}\n",
    "- Note the curly braces { }, but without a key:value pair."
   ]
  },
  {
   "cell_type": "code",
   "execution_count": null,
   "id": "1a63cb3e",
   "metadata": {},
   "outputs": [],
   "source": [
    "# Create a set of unique signal signatures from a list with duplicates\n",
    "raw_pings = [10, 20, 15, 20, 10, 30, 15] # An iterable collection\n",
    "unique_ping_signatures = {ping ** 2 for ping in raw_pings}\n",
    "# -> {400, 100, 900, 225} (order is not guaranteed, duplicates are removed)\n",
    "\n",
    "# Sets are unordered, unindexed collections of unique items."
   ]
  },
  {
   "cell_type": "markdown",
   "id": "9cfc747d",
   "metadata": {},
   "source": [
    "## 3.4. Generator Expressions (not Tuple Comprehensions!)\n",
    "- Syntax: (expression for item in iterable)\n",
    "- Note the round parentheses ( )!"
   ]
  },
  {
   "cell_type": "code",
   "execution_count": null,
   "id": "8480386d",
   "metadata": {},
   "outputs": [],
   "source": [
    "# This creates a **generator object**.\n",
    "data_stream = [1, 2, 3, 4, 5]\n",
    "processed_stream_generator = (value ** 2 for value in data_stream)\n",
    "# -> <generator object <genexpr> at 0x...>\n",
    "\n",
    "# To create a TUPLE using comprehension-like syntax:\n",
    "processed_stream_tuple = tuple(value ** 2 for value in data_stream)\n",
    "# -> (1, 4, 9, 16, 25)\n",
    "\n",
    "# A generator is a memory-efficient iterator that yields values one by one, on demand,\n",
    "# rather than building the entire collection in memory at once."
   ]
  },
  {
   "cell_type": "markdown",
   "id": "9da7bc48",
   "metadata": {},
   "source": [
    "## 3.5. System Checks with `any()` and `all()`\n",
    "- `any(iterable)`: Returns `True` if **at least one** item in the iterable is true.\n",
    "- `all(iterable)`: Returns `True` if **all** items in the iterable are true.\n",
    "- These are often combined with generator expressions for powerful, readable checks."
   ]
  },
  {
   "cell_type": "code",
   "execution_count": null,
   "id": "f2590de1",
   "metadata": {},
   "outputs": [],
   "source": [
    "mission_logs = [\"Status: Nominal\", \"Anomaly Detected!\", \"Status: Nominal\", \"System Error\"]\n",
    "target_keyword = \"Anomaly\"\n",
    "\n",
    "# `any()` - check if the target keyword is present in *any* of the logs\n",
    "is_target_present = any(target_keyword in log for log in mission_logs)\n",
    "\n",
    "if is_target_present:\n",
    "    print(f\"Alert: The keyword '{target_keyword}' was found in at least one log entry!\") # -> This will print\n",
    "else:\n",
    "    print(\"Keyword not found in logs.\")\n",
    "\n",
    "\n",
    "# `all()` - check if *all* log entries are of type 'string'\n",
    "all_are_strings = all(isinstance(log, str) for log in mission_logs)\n",
    "# This creates a generator of True/False values, `all()` checks if all are True.\n",
    "\n",
    "if all_are_strings:\n",
    "    print(\"Data Integrity Check: All log entries are strings.\")"
   ]
  },
  {
   "cell_type": "markdown",
   "id": "e509ef26",
   "metadata": {},
   "source": [
    "## practise\n",
    "\n",
    "1.  **Level: Easy (List Comprehension)**\n",
    "    - You are given a list of `agent_callsigns` with inconsistent formatting.\n",
    "    ```python\n",
    "    agent_callsigns = [\" pathfinder\", \"SPECTRE\", \"  Vanguard\", \"seeker\", \"Nomad  \", \"alpha\"]\n",
    "    ```\n",
    "    - Using a **list comprehension**, create a new list that contains only the callsigns that start with the letter 'p' or 'v'. The names in the new list should be cleaned of leading/trailing whitespace and have their first letter capitalized (title case).\n",
    "\n",
    "---\n",
    "\n",
    "2.  **Level: Medium (Set Comprehension)**\n",
    "    - You have a log of all artifacts recovered during multiple missions, with many duplicates.\n",
    "    ```python\n",
    "    recovered_artifacts_log = [\n",
    "        \"Energy Crystal\", \"Ancient Scroll\", \"Energy Crystal\", \"Data Chip\", \"Locator Beacon\",\n",
    "        \"Data Chip\", \"Energy Crystal\", \"Alien Alloy\", \"Locator Beacon\", \"Ancient Scroll\"\n",
    "    ]\n",
    "    ```\n",
    "    - **a)** Using **set comprehension**, create a set of `unique_artifacts` that were recovered.\n",
    "    - **b)** Using **set comprehension**, create a set of `long_artifact_names` containing only the artifacts with names longer than 10 characters.\n",
    "    - **c)** Using **set comprehension**, create a set of `crystal_artifacts` containing only the artifacts that include the word \"Crystal\".\n",
    "\n",
    "---\n",
    "\n",
    "3.  **Level: Medium (List Comprehension with Dictionaries)**\n",
    "    - You have personnel records as a list of dictionaries.\n",
    "    ```python\n",
    "    personnel_records = [\n",
    "        {\"name\": \"Alice\", \"age\": 32, \"department\": \"Science\", \"clearance\": 4},\n",
    "        {\"name\": \"Bob\", \"age\": 24, \"department\": \"Engineering\", \"clearance\": 3},\n",
    "        {\"name\": \"Charlie\", \"age\": 38, \"department\": \"Security\", \"clearance\": 5},\n",
    "        {\"name\": \"Dana\", \"age\": 45, \"department\": \"Command\", \"clearance\": 5},\n",
    "        {\"name\": \"Eve\", \"age\": 29, \"department\": \"Engineering\", \"clearance\": 4}\n",
    "    ]\n",
    "    ```\n",
    "    - **a)** Using **list comprehension**, create a list of the names of all personnel older than 30.\n",
    "    - **b)** Using **list comprehension**, create a list of the names of all personnel in the \"Engineering\" department.\n",
    "    - **c)** Using **list comprehension**, create a list of names of personnel who have a clearance level of 5.\n",
    "\n",
    "---\n",
    "\n",
    "4.  **Level: Medium / Hard (Dictionary Comprehension)**\n",
    "    - You have a dictionary of `operative_skill_scores`.\n",
    "    ```python\n",
    "    operative_skill_scores = {\n",
    "        \"Pathfinder\": 92,\n",
    "        \"Spectre\": 78,\n",
    "        \"Vanguard\": 85,\n",
    "        \"Seeker\": 95,\n",
    "        \"Nomad\": 69\n",
    "    }\n",
    "    ```\n",
    "    - **a)** Using **dictionary comprehension**, create a new dictionary `operative_status` where operatives with a score of 85 or higher are assigned the status `\"Elite\"`, and all others are assigned `\"Field-Ready\"`.\n",
    "    - **b)** Using **dictionary comprehension**, create a new dictionary `normalized_scores` where each operative's score is converted to a 0.0 - 1.0 scale.\n",
    "    - **c)** Using **dictionary comprehension**, create a new dictionary `needs_retraining` containing only the operatives with a score below 80.\n",
    "\n",
    "---\n",
    "\n",
    "5.  **Level: Medium (Using `any()` and `all()`)**\n",
    "    - You have data on exploration team performance, where each member has a list of scores from recent simulation runs.\n",
    "    ```python\n",
    "    team_performance_log = [\n",
    "        (\"Pathfinder\", [8, 9, 7]),\n",
    "        (\"Spectre\", [9, 9, 10]),\n",
    "        (\"Vanguard\", [7, 8, 8]),\n",
    "        (\"Seeker\", [10, 10, 10]),\n",
    "        (\"Nomad\", [6, 7, 8])\n",
    "    ]\n",
    "    ```\n",
    "    - **a)** Using `any()` and a generator expression, check if there is **at least one** operative who scored a perfect `10` in any of their simulations. Print `True` or `False`.\n",
    "    - **b)** Using `all()` and a generator expression, check if **all** operatives have an average score greater than `7`. Print `True` or `False`."
   ]
  },
  {
   "cell_type": "markdown",
   "id": "3ec30f25",
   "metadata": {},
   "source": [
    "---\n",
    "#### © Jiří Svoboda (George Freedom)\n",
    "- Web: https://GeorgeFreedom.com\n",
    "- LinkedIn: https://www.linkedin.com/in/georgefreedom/\n",
    "- Book me: https://cal.com/georgefreedom"
   ]
  }
 ],
 "metadata": {
  "language_info": {
   "name": "python"
  }
 },
 "nbformat": 4,
 "nbformat_minor": 5
}
